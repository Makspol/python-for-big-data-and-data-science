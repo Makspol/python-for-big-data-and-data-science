{
  "nbformat": 4,
  "nbformat_minor": 0,
  "metadata": {
    "colab": {
      "provenance": []
    },
    "kernelspec": {
      "name": "python3",
      "display_name": "Python 3"
    },
    "language_info": {
      "name": "python"
    }
  },
  "cells": [
    {
      "cell_type": "markdown",
      "source": [
        "# I. Оператори порівняння та логічні оператори. Умови."
      ],
      "metadata": {
        "id": "qDEi2Pi-4yUC"
      }
    },
    {
      "cell_type": "markdown",
      "source": [
        "1. Створіть цілочисленну змінну зі своїм щасливим або улюбленим числом. Напишіть код, який би автоматизовував наступну задачу.\n",
        "\n",
        "Якщо число парне, помножте його на 2 та виведіть результат на екран.\n",
        "\n",
        "Але якщо число непарне, помножте його на 3 та додайте 1 і виведіть на екран."
      ],
      "metadata": {
        "id": "3v8D4Dkm43Ua"
      }
    },
    {
      "cell_type": "code",
      "execution_count": 5,
      "metadata": {
        "id": "dlVjc-Nu4bmb",
        "colab": {
          "base_uri": "https://localhost:8080/"
        },
        "outputId": "be8c780e-05c4-416b-fb94-f9e82912dd74"
      },
      "outputs": [
        {
          "output_type": "stream",
          "name": "stdout",
          "text": [
            "82\n"
          ]
        }
      ],
      "source": [
        "happy = 27\n",
        "\n",
        "if happy % 2 == 0:\n",
        "    print(happy * 2)\n",
        "\n",
        "else:\n",
        "    print(happy * 3 + 1)"
      ]
    },
    {
      "cell_type": "markdown",
      "source": [
        "2. Створіть змінну, що посилається на список. Якщо список пустий, додайте будь-який елемент у кінець списку. Якщо ж ні, то нічого не робіть."
      ],
      "metadata": {
        "id": "H669P0QK5BI_"
      }
    },
    {
      "cell_type": "code",
      "source": [
        "first_list = []\n",
        "\n",
        "if not first_list:\n",
        "    first_list.append(1)"
      ],
      "metadata": {
        "id": "ecWlfra45f6E",
        "colab": {
          "base_uri": "https://localhost:8080/"
        },
        "outputId": "d94d69e8-bdda-40f8-f856-80ac5f8a630f"
      },
      "execution_count": 8,
      "outputs": [
        {
          "output_type": "execute_result",
          "data": {
            "text/plain": [
              "[1]"
            ]
          },
          "metadata": {},
          "execution_count": 8
        }
      ]
    },
    {
      "cell_type": "markdown",
      "source": [
        "3. Створіть рядок зі своїм імʼям латинкою. Напишіть код, який би автоматизовував наступну задачу.\n",
        "\n",
        "Якщо в імені є літера \"а\"\n",
        " або \"i\", Виведіть на екран повідомлення \"A or I is in the name\".\n",
        "\n",
        "\n",
        "\n",
        "Якщо в імені є літери \"o\" та \"n\", Виведіть на екран повідомлення \"O and N is in the name\".\n",
        "\n",
        "Також якщо в імені немає літери \"о\", але є \"n\", Виведіть на екран повідомлення \"Only N is in the name\".\n",
        "\n",
        "В решті випадків виведіть на екран повідомлення \"There is no N in the name, but there might be O\".\n",
        "\n",
        "Зверніть увагу, що, наприклад, для імені \"Antonina\" буде виведено два повідомлення."
      ],
      "metadata": {
        "id": "h9Y3cMUd5h85"
      }
    },
    {
      "cell_type": "code",
      "source": [
        "my_name = \"Maksym\"\n",
        "\n",
        "if (\"a\" in my_name.lower()) or (\"i\" in my_name.lower()):\n",
        "    print(f'A or I is in \"{my_name}\";')\n",
        "\n",
        "if (\"o\" in my_name.lower()) and (\"n\" in my_name.lower()):\n",
        "    print(f'O and N is in \"{my_name}\".')\n",
        "\n",
        "elif \"n\" in my_name.lower():\n",
        "    print(f'Only N is in \"{my_name}\".')\n",
        "\n",
        "else:\n",
        "    print(f'There is no N in \"{my_name}\", but there might be O.')"
      ],
      "metadata": {
        "id": "bUH4LUx35u52",
        "colab": {
          "base_uri": "https://localhost:8080/"
        },
        "outputId": "e9b848b1-9be8-4e77-ee4c-b869a12de5f0"
      },
      "execution_count": 17,
      "outputs": [
        {
          "output_type": "stream",
          "name": "stdout",
          "text": [
            "A or I is in \"Maksym\";\n",
            "There is no N in \"Maksym\", but there might be O.\n"
          ]
        }
      ]
    },
    {
      "cell_type": "markdown",
      "source": [
        "# II. Comprehensions."
      ],
      "metadata": {
        "id": "wPCXJv4354cU"
      }
    },
    {
      "cell_type": "markdown",
      "source": [
        "4. Створіть список, використовуючи if (не if-else), range та comprehension."
      ],
      "metadata": {
        "id": "jULLW5jN55Pw"
      }
    },
    {
      "cell_type": "code",
      "source": [
        "cool_list = [num if num % 2 == 0 else num + 1 for num in range(1, 11)]\n",
        "print(cool_list)\n",
        "\n",
        "cool_list = [num for num in range(1, 11) if num % 2 == 0]\n",
        "print(cool_list)"
      ],
      "metadata": {
        "id": "mlZalnVC6W3F",
        "colab": {
          "base_uri": "https://localhost:8080/"
        },
        "outputId": "0c84cf2f-f0be-48b4-b3ab-eb00ac4478e6"
      },
      "execution_count": 22,
      "outputs": [
        {
          "output_type": "stream",
          "name": "stdout",
          "text": [
            "[2, 2, 4, 4, 6, 6, 8, 8, 10, 10]\n",
            "[2, 4, 6, 8, 10]\n"
          ]
        }
      ]
    },
    {
      "cell_type": "markdown",
      "source": [
        "5. Створіть словник, використовуючи dict comprehension, що містить if else. Коли слід використовувати comprehensions, а коли їх слід уникати?"
      ],
      "metadata": {
        "id": "LqhEQ4JW6XcC"
      }
    },
    {
      "cell_type": "code",
      "source": [
        "cool_dict = {num: num if num % 2 == 0 else num + 1 for num in range(1, 11)}\n",
        "cool_dict"
      ],
      "metadata": {
        "id": "1yVaFbOs6hta",
        "colab": {
          "base_uri": "https://localhost:8080/"
        },
        "outputId": "7ca59d90-404f-4bea-f98d-5cceea67429b"
      },
      "execution_count": 24,
      "outputs": [
        {
          "output_type": "execute_result",
          "data": {
            "text/plain": [
              "{1: 2, 2: 2, 3: 4, 4: 4, 5: 6, 6: 6, 7: 8, 8: 8, 9: 10, 10: 10}"
            ]
          },
          "metadata": {},
          "execution_count": 24
        }
      ]
    },
    {
      "cell_type": "markdown",
      "source": [
        "**Коли слід використовувати comprehensions, а коли їх слід уникати?**\n",
        "\n",
        "Сomprehensions варто використовувати для наповнення ітерабельних об'єктів, але якщо умова для вибірки елементів з range не є великою та складною, і не потрібно виконувати додаткові складні операції. Інакше код буде нечитабельним, складним для аналізу та страшним для інших людей."
      ],
      "metadata": {
        "id": "wbkzNhKq6hzz"
      }
    },
    {
      "cell_type": "markdown",
      "source": [
        "6. Створіть список з рядками та запишіть його у змінну. Створіть ще один список на основі попереднього, де кожен рядок буде містити тільки три перших заглавних символи. Наприклад: ['hello', 'i', 'dont', 'care'] -> ['HEL', 'I', 'DON', 'CAR']. Використання comprehensions обовʼязкове."
      ],
      "metadata": {
        "id": "ZlqB8G3G6lHP"
      }
    },
    {
      "cell_type": "code",
      "source": [
        "string_list = 'I like to invent and implement algorithms for interesting tasks!'.split(' ')\n",
        "print(string_list)\n",
        "\n",
        "new_string_list = [string.upper() if len(string) <= 3 else string[0:3].upper() for string in string_list]\n",
        "print(new_string_list)"
      ],
      "metadata": {
        "id": "nw6rz0bR60VC",
        "colab": {
          "base_uri": "https://localhost:8080/"
        },
        "outputId": "65761c3e-c958-471e-adde-272bfc5c3229"
      },
      "execution_count": 28,
      "outputs": [
        {
          "output_type": "stream",
          "name": "stdout",
          "text": [
            "['I', 'like', 'to', 'invent', 'and', 'implement', 'algorithms', 'for', 'interesting', 'tasks!']\n",
            "['I', 'LIK', 'TO', 'INV', 'AND', 'IMP', 'ALG', 'FOR', 'INT', 'TAS']\n"
          ]
        }
      ]
    },
    {
      "cell_type": "markdown",
      "source": [
        "# III. Цикли."
      ],
      "metadata": {
        "id": "Tj573IAH64Fz"
      }
    },
    {
      "cell_type": "markdown",
      "source": [
        "7. Продемонструйте роботу циклу while. Не можна використовувати True для запуску циклу, щоб уникнути безкінечного циклу!"
      ],
      "metadata": {
        "id": "tN_33xdE65H5"
      }
    },
    {
      "cell_type": "code",
      "source": [
        "iter = 0\n",
        "line = ''\n",
        "\n",
        "while iter < len(string_list):\n",
        "    line += string_list[iter] + ' '\n",
        "    iter += 1\n",
        "\n",
        "line"
      ],
      "metadata": {
        "id": "Kd9FO6yG63P5",
        "colab": {
          "base_uri": "https://localhost:8080/",
          "height": 35
        },
        "outputId": "f572750b-6db1-4334-9bde-fbcb040a3922"
      },
      "execution_count": 36,
      "outputs": [
        {
          "output_type": "execute_result",
          "data": {
            "text/plain": [
              "'I like to invent and implement algorithms for interesting tasks! '"
            ],
            "application/vnd.google.colaboratory.intrinsic+json": {
              "type": "string"
            }
          },
          "metadata": {},
          "execution_count": 36
        }
      ]
    },
    {
      "cell_type": "markdown",
      "source": [
        "8. Напишіть програму, яка виведе на екран непарні числа в діапазоні від 0 до 20 включно."
      ],
      "metadata": {
        "id": "x2CmfZO-7pW0"
      }
    },
    {
      "cell_type": "code",
      "source": [
        "for num in range(21):\n",
        "    if num % 2 == 1:\n",
        "        print(num)"
      ],
      "metadata": {
        "id": "aCSRYA6s7tkF",
        "colab": {
          "base_uri": "https://localhost:8080/"
        },
        "outputId": "d84a67f5-ba9c-4131-c809-a524a9a80c23"
      },
      "execution_count": 39,
      "outputs": [
        {
          "output_type": "stream",
          "name": "stdout",
          "text": [
            "1\n",
            "3\n",
            "5\n",
            "7\n",
            "9\n",
            "11\n",
            "13\n",
            "15\n",
            "17\n",
            "19\n"
          ]
        }
      ]
    },
    {
      "cell_type": "markdown",
      "source": [
        "9. Створіть список з елементами булевого типу або None. Використовуючи цикли, отримайте в результаті список з кортежами, де перший елемент кортежу - індекс(ціле число), а другий елемент - відповідне значення з першого списку.\n",
        "\n",
        "Наприклад, [True, True, None, False] -> [(0, True), (1, True), (2, None), (3, False)]"
      ],
      "metadata": {
        "id": "MDWNocZD7t_B"
      }
    },
    {
      "cell_type": "code",
      "source": [
        "bool_list = [True, False, None, True, None, False]\n",
        "new_bool_list = []\n",
        "\n",
        "for i in range(len(bool_list)):\n",
        "    new_bool_list.append((i, bool_list[i]))\n",
        "\n",
        "new_bool_list"
      ],
      "metadata": {
        "id": "0EUyjMdp7yfh",
        "colab": {
          "base_uri": "https://localhost:8080/"
        },
        "outputId": "dfc8d43b-c569-4f60-fd20-13caec57022a"
      },
      "execution_count": 41,
      "outputs": [
        {
          "output_type": "execute_result",
          "data": {
            "text/plain": [
              "[(0, True), (1, False), (2, None), (3, True), (4, None), (5, False)]"
            ]
          },
          "metadata": {},
          "execution_count": 41
        }
      ]
    },
    {
      "cell_type": "markdown",
      "source": [
        "10. Створіть словник, де ключі - назви книжок, а значення - їхня кількість у наявності в Вашій міні-бібліотеці. Бібліотека має містити щонайменше 6 книжок (6 пар значень у словнику) і щонайбільше 10 (пар значень). Використовуючи цикли, оновіть словник (не створюйте новий) так, щоби кількість книг у наявності збільшилося на 5 кожної книги. Наприклад,\n",
        "{'It': 3, 'Fault stars': 10, 'Bible': 17, 'Psychological romance': 4, 'Harry Potter': 13} -> {'It': 8, 'Fault stars': 15, 'Bible': 22, 'Psychological romance': 9, 'Harry Potter': 18}"
      ],
      "metadata": {
        "id": "-6XUqlcG7zKs"
      }
    },
    {
      "cell_type": "code",
      "source": [
        "manga = {\n",
        "    'Sword art online': 27,\n",
        "    'Attack on Titan': 25,\n",
        "    'Akame ga Kill': 20,\n",
        "    'Re:Zero': 23,\n",
        "    'Bungo Stray Dogs': 19,\n",
        "    'Mushoku Tensei': 20\n",
        "}\n",
        "\n",
        "for key in manga:\n",
        "    manga[key] += 5\n",
        "\n",
        "manga"
      ],
      "metadata": {
        "id": "Ceoj9wwb791q",
        "colab": {
          "base_uri": "https://localhost:8080/"
        },
        "outputId": "397d0442-a3b0-42d5-b7c8-5d9fa47902df"
      },
      "execution_count": 46,
      "outputs": [
        {
          "output_type": "execute_result",
          "data": {
            "text/plain": [
              "{'Sword art online': 32,\n",
              " 'Attack on Titan': 30,\n",
              " 'Akame ga Kill': 25,\n",
              " 'Re:Zero': 28,\n",
              " 'Bungo Stray Dogs': 24,\n",
              " 'Mushoku Tensei': 25}"
            ]
          },
          "metadata": {},
          "execution_count": 46
        }
      ]
    },
    {
      "cell_type": "markdown",
      "source": [
        "11. Визначте цілочислену змінну n, що належить проміжку від 4 до 10 включно. Використовуючи цикли, виведіть в консоль наступний патерн.\n",
        "\n",
        "#\n",
        "##\n",
        "###\n",
        "####\n",
        "\n",
        "... #*n\n"
      ],
      "metadata": {
        "id": "QLzyJM288AC7"
      }
    },
    {
      "cell_type": "code",
      "source": [
        "from random import randint\n",
        "\n",
        "n = randint(4, 11)\n",
        "\n",
        "for i in range(n):\n",
        "    print('#' * i)"
      ],
      "metadata": {
        "id": "KOpng87s8Duz",
        "colab": {
          "base_uri": "https://localhost:8080/"
        },
        "outputId": "6b69e16d-c97b-491f-ece0-be2fb196f516"
      },
      "execution_count": 51,
      "outputs": [
        {
          "output_type": "stream",
          "name": "stdout",
          "text": [
            "\n",
            "#\n",
            "##\n",
            "###\n",
            "####\n",
            "#####\n",
            "######\n",
            "#######\n",
            "########\n"
          ]
        }
      ]
    },
    {
      "cell_type": "markdown",
      "source": [
        "12. Гра \"Нумо вгадай\".\n",
        "Розробіть просту гру, де користувач має вгадати випадкове число від 1 до 100. Для генерації випадкового числа використовуйте функцію random.randint(a, b) (тут a та b включно). Для отримання числа з консолі використовуйте функцію input(), результат якої обовʼязково явно приведіть до типу int.\n",
        "\n",
        "Підказка: використовуйте цикл while та умови if-else, щоб повідомити користувачу піказки (напр. \"Більше\", \"Менше\") поки користувач не вгадає. По завершенню виведіть кількість спроб, які знадобилися для вгадування."
      ],
      "metadata": {
        "id": "_bd-bqAT8EHn"
      }
    },
    {
      "cell_type": "code",
      "source": [
        "a, b = 1, 100\n",
        "mistic = randint(a, b + 1)\n",
        "user = 0\n",
        "count = 0\n",
        "\n",
        "while user != mistic:\n",
        "    count += 1\n",
        "    user = int(input(f'Guess a number from {a} to {b}:'))\n",
        "\n",
        "    if user < mistic:\n",
        "        print('More!')\n",
        "\n",
        "    elif user > mistic:\n",
        "        print('Less!')\n",
        "\n",
        "print(f'You guessed my number {mistic} out of {count} times')\n",
        "\n",
        "\n",
        "# Guess a number from 1 to 100:50\n",
        "# Less!\n",
        "# Guess a number from 1 to 100:25\n",
        "# More!\n",
        "# Guess a number from 1 to 100:38\n",
        "# Less!\n",
        "# Guess a number from 1 to 100:31\n",
        "# Less!\n",
        "# Guess a number from 1 to 100:27\n",
        "# You guessed my number 27 out of 5 times\n",
        "\n",
        "# Я зіграв в цю гру один раз, для тестування, але так вийшло, що загадане число 27.\n",
        "# Я це число в першому завданні вказав як щасливе.\n",
        "# Цікаве співпадіння, тому вирішив написати про це в коментарі."
      ],
      "metadata": {
        "id": "IK9nnxFK8Hkl",
        "colab": {
          "base_uri": "https://localhost:8080/"
        },
        "outputId": "2ededb8a-b78b-4488-f52d-fdb8249f0c8f"
      },
      "execution_count": 53,
      "outputs": [
        {
          "output_type": "stream",
          "name": "stdout",
          "text": [
            "Guess a number from 1 to 100:50\n",
            "Less!\n",
            "Guess a number from 1 to 100:25\n",
            "More!\n",
            "Guess a number from 1 to 100:38\n",
            "Less!\n",
            "Guess a number from 1 to 100:31\n",
            "Less!\n",
            "Guess a number from 1 to 100:27\n",
            "You guessed my number 27 out of 5 times\n"
          ]
        }
      ]
    },
    {
      "cell_type": "markdown",
      "source": [
        "# Вітаю! Ви велика(ий) молодець, що впоралась(вся). Похваліть себе та побалуйте чимось приємним. Я Вами пишаюся."
      ],
      "metadata": {
        "id": "PXoXWb7Z8IGi"
      }
    }
  ]
}