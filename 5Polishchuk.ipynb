{
  "nbformat": 4,
  "nbformat_minor": 0,
  "metadata": {
    "colab": {
      "provenance": []
    },
    "kernelspec": {
      "name": "python3",
      "display_name": "Python 3"
    },
    "language_info": {
      "name": "python"
    }
  },
  "cells": [
    {
      "cell_type": "markdown",
      "source": [
        "# I. OOP"
      ],
      "metadata": {
        "id": "5qV_sehzFCTp"
      }
    },
    {
      "cell_type": "markdown",
      "source": [
        "1. (6б). Створіть клас Animal, додайте три атрибути, один з яких має значення за замовчуванням та два методи на свій розсуд."
      ],
      "metadata": {
        "id": "tx_U_hOALyfg"
      }
    },
    {
      "cell_type": "code",
      "source": [
        "class Animal:\n",
        "    def __init__(self, animal_class, animal_subclass, animal_infraclass=None):\n",
        "        self.animal_class = animal_class\n",
        "        self.animal_subclass = animal_subclass\n",
        "        self.animal_infraclass = animal_infraclass\n",
        "\n",
        "    def isCompleteDefinition(self):\n",
        "        if self.animal_class and self.animal_subclass and self.animal_infraclass:\n",
        "            return True\n",
        "\n",
        "        return False\n",
        "\n",
        "    def __str__(self):\n",
        "        return f'class: {self.animal_class}\\nsubclass: {self.animal_subclass}\\ninfraclass: {self.animal_infraclass}'"
      ],
      "metadata": {
        "id": "-Vf895KaL88N"
      },
      "execution_count": null,
      "outputs": []
    },
    {
      "cell_type": "markdown",
      "source": [
        "2. (2б). Створіть два обʼєкти цього класу, де один з обʼєктів створюється із дефолтним значенням атрибуту. На одному обʼєкті отримайте значення його атрибуту, а на іншому викличте один з його методів."
      ],
      "metadata": {
        "id": "X_UlOMB0L93w"
      }
    },
    {
      "cell_type": "code",
      "source": [
        "# with the default\n",
        "print('with the default:\\n')\n",
        "\n",
        "animal_test = Animal(\"Ссавці\", \"Першозвірі\")\n",
        "print(str(animal_test) + '\\n')\n",
        "print('isCompleteDefinition: ' + str(animal_test.isCompleteDefinition()))"
      ],
      "metadata": {
        "id": "7gBu0ESOMCpG",
        "colab": {
          "base_uri": "https://localhost:8080/"
        },
        "outputId": "ef097b80-7a0e-42f1-d7e0-6f3ae21a629a"
      },
      "execution_count": null,
      "outputs": [
        {
          "output_type": "stream",
          "name": "stdout",
          "text": [
            "with the default:\n",
            "\n",
            "class: Ссавці\n",
            "subclass: Першозвірі\n",
            "infraclass: None\n",
            "\n",
            "isCompleteDefinition: False\n"
          ]
        }
      ]
    },
    {
      "cell_type": "code",
      "source": [
        "# new animal\n",
        "print('new animal:\\n')\n",
        "\n",
        "animal1 = Animal(\"Ссавці\", \"Справжні звірі\", \"Сумчасті\")\n",
        "print(str(animal1) + '\\n')\n",
        "\n",
        "print(animal1.animal_class)\n",
        "print(animal1.animal_subclass)\n",
        "print(animal1.animal_infraclass)\n",
        "print()\n",
        "print('isCompleteDefinition: ' + str(animal1.isCompleteDefinition()))"
      ],
      "metadata": {
        "colab": {
          "base_uri": "https://localhost:8080/"
        },
        "id": "WvYL7p2Cuds0",
        "outputId": "4535b876-05a7-4547-edcf-a87d0d9228cc"
      },
      "execution_count": null,
      "outputs": [
        {
          "output_type": "stream",
          "name": "stdout",
          "text": [
            "new animal:\n",
            "\n",
            "class: Ссавці\n",
            "subclass: Справжні звірі\n",
            "infraclass: Сумчасті\n",
            "\n",
            "Ссавці\n",
            "Справжні звірі\n",
            "Сумчасті\n",
            "\n",
            "isCompleteDefinition: True\n"
          ]
        }
      ]
    },
    {
      "cell_type": "markdown",
      "source": [
        "3. (5б). Створіть клас, де атрибути мають різні рівні доступу. Спробуйте отримати їхні значення та опишіть результати."
      ],
      "metadata": {
        "id": "HoqSCZt1MHn5"
      }
    },
    {
      "cell_type": "code",
      "source": [
        "class AdvancedAnimal:\n",
        "    def __init__(self, animal_class, animal_subclass, animal_infraclass=None):\n",
        "        self.animal_class = animal_class\n",
        "        self._animal_subclass = animal_subclass\n",
        "        self.__animal_infraclass = animal_infraclass\n",
        "\n",
        "    def getClass(self):\n",
        "        return self.animal_class\n",
        "\n",
        "    def setClass(self, animal_class):\n",
        "        self.animal_class = animal_class\n",
        "        return self.animal_class\n",
        "\n",
        "    def getSubclass(self):\n",
        "        return self._animal_subclass\n",
        "\n",
        "    def setSubclass(self, animal_subclass):\n",
        "        self._animal_subclass = animal_subclass\n",
        "        return self._animal_subclass\n",
        "\n",
        "    def getInfraclass(self):\n",
        "        return self.__animal_infraclass\n",
        "\n",
        "    def setInfraclass(self, animal_infraclass):\n",
        "        self.__animal_infraclass = animal_infraclass\n",
        "        return self.__animal_infraclass\n",
        "\n",
        "    def isCompleteDefinition(self):\n",
        "        if self.animal_class and self._animal_subclass and self.__animal_infraclass:\n",
        "            return True\n",
        "\n",
        "        return False\n",
        "\n",
        "    def __str__(self):\n",
        "        return f'class: {self.animal_class}\\nsubclass: {self._animal_subclass}\\ninfraclass: {self.__animal_infraclass}'"
      ],
      "metadata": {
        "id": "r9b3vJxBMSPV"
      },
      "execution_count": null,
      "outputs": []
    },
    {
      "cell_type": "code",
      "source": [
        "advanced_animal = AdvancedAnimal(\"Ссавці\", \"Справжні звірі\", \"Сумчасті\")\n",
        "print(str(advanced_animal) + '\\n')\n",
        "\n",
        "print(advanced_animal.animal_class)\n",
        "print(advanced_animal._animal_subclass)\n",
        "\n",
        "try:\n",
        "    print(advanced_animal.__animal_infraclass)\n",
        "except:\n",
        "    print('Error: ' + advanced_animal.getInfraclass())"
      ],
      "metadata": {
        "colab": {
          "base_uri": "https://localhost:8080/"
        },
        "id": "2OaMhE5jut1Z",
        "outputId": "db85da0a-2a68-40f2-a1ba-71f89884bd07"
      },
      "execution_count": null,
      "outputs": [
        {
          "output_type": "stream",
          "name": "stdout",
          "text": [
            "class: Ссавці\n",
            "subclass: Справжні звірі\n",
            "infraclass: Сумчасті\n",
            "\n",
            "Ссавці\n",
            "Справжні звірі\n",
            "Error: Сумчасті\n"
          ]
        }
      ]
    },
    {
      "cell_type": "markdown",
      "source": [
        "self.animal_class - це паблік атрибут, тому на нього можна посилатися поза класом.\n",
        "\n",
        "---\n",
        "\n",
        "\n",
        "\n",
        "self._animal_subclass - це протектед атрибут. По ідеї він повинен бути закритий для посилання поза класом, а наслідникам доступний.\n",
        "Але у python це скоріше домовленість між розробниками, що ніхто не буде викликати його ззовні, а ніж реальність, бо всетаки можна посилатися на\n",
        "протектед атрибути поза класом.\n",
        "\n",
        "---\n",
        "\n",
        "\n",
        "\n",
        "self.__ animal_infraclass - це приватний атрибут. На нього не можна посилатися ззовні класу, python викине виняток, що такого атрибуту не існує. Але такий синтаксис (self.__ animal_infraclass) також є домовленістю.\n",
        "Насправді коли ми пробуємо посилатися на цей атрибут поза класом, ім'я цього атрибуту автоматично спотворюється, додаючи перед ним _ClassName. Тобто, коли виконується такий код:\n",
        "**advanced_animal.__ animal_infraclass**,\n",
        "в класі вже не буде атрибуту __ animal_infraclass, а буде _ClassName __animal_infraclass."
      ],
      "metadata": {
        "id": "PpRGU93CzRbM"
      }
    },
    {
      "cell_type": "markdown",
      "source": [
        "4. (7б). Як ви розумієте термін self? Для чого використовується метод __init __?"
      ],
      "metadata": {
        "id": "5op2m2vgMSkZ"
      }
    },
    {
      "cell_type": "markdown",
      "source": [
        "Методам у класах потрібно приймати першим параметром посилання на цей же клас. Є домовленість, що цей параметр матиме ім'я self.\n",
        "Але насправді це такий же параметр, як і будь-який інший, тобто замість self ми можемо надати параметру інше ім'я.\n",
        "\n",
        "Нижче я навів приклад, де в деяких методах замість self я надав параметру ім'я some_name.\n",
        "\n",
        "---\n",
        "\n",
        "Метод __init __ використовується для ініціалізації класу (для оголошення атрибутів; може викликати інші методи, які обов'язково повинні бути виконані перед початком роботи з екземпляром) і викликається пайтоном при створенні екземпляру класу (схожий на конструктори класу з інших мов програмування)"
      ],
      "metadata": {
        "id": "DyiPqNRvMasx"
      }
    },
    {
      "cell_type": "code",
      "source": [
        "class TestAnimal:\n",
        "    def __init__(some_name, animal_class, animal_subclass, animal_infraclass=None):\n",
        "        some_name.animal_class = animal_class\n",
        "        some_name.animal_subclass = animal_subclass\n",
        "        some_name.animal_infraclass = animal_infraclass\n",
        "\n",
        "    def isCompleteDefinition(self):\n",
        "        if self.animal_class and self.animal_subclass and self.animal_infraclass:\n",
        "            return True\n",
        "\n",
        "        return False\n",
        "\n",
        "    def __str__(some_name):\n",
        "        return f'class: {some_name.animal_class}\\nsubclass: {some_name.animal_subclass}\\ninfraclass: {some_name.animal_infraclass}'\n",
        "\n",
        "\n",
        "a_test = TestAnimal(\"Ссавці\", \"Першозвірі\", \"Клоачні\")\n",
        "print(a_test.isCompleteDefinition())\n",
        "print(a_test)"
      ],
      "metadata": {
        "colab": {
          "base_uri": "https://localhost:8080/"
        },
        "id": "1FZtfmScOWi0",
        "outputId": "7a857a7d-fab9-4628-addc-c3f97883d324"
      },
      "execution_count": null,
      "outputs": [
        {
          "output_type": "stream",
          "name": "stdout",
          "text": [
            "True\n",
            "class: Ссавці\n",
            "subclass: Першозвірі\n",
            "infraclass: Клоачні\n"
          ]
        }
      ]
    },
    {
      "cell_type": "markdown",
      "source": [
        "5. (9б). Створіть клас Фігура без атрибутів, з методом get_area для отримання площі фігури, що повертає 0 та __add __, який приймає self та other в якості аргументів, а повертає суму площин фігур self та other."
      ],
      "metadata": {
        "id": "-6X8EGfjMd2y"
      }
    },
    {
      "cell_type": "code",
      "source": [
        "class Figure:\n",
        "\n",
        "    def get_area(self):\n",
        "        return 0;\n",
        "\n",
        "    def __add__(self, other):\n",
        "        return self.get_area() + other.get_area()"
      ],
      "metadata": {
        "id": "4rvO_wYUMaEr"
      },
      "execution_count": null,
      "outputs": []
    },
    {
      "cell_type": "markdown",
      "source": [
        "6. (11б). Створіть 2 дочірніх класи від Фігури: Трикутник та Коло, які мають атрибути, необхідні для розрахунку площин. Визначте метод get_area в кожному з них так, щоби вони розраховували площу в залежності від формули для кожного типу фігури. Створіть обʼєкт класу Трикутник та обʼєкт класу Коло. Виконайте операцію суми за допомогою оператора + між ними."
      ],
      "metadata": {
        "id": "SFcKnnv5Mo_z"
      }
    },
    {
      "cell_type": "code",
      "source": [
        "import math\n",
        "\n",
        "class Triangle(Figure):\n",
        "    def __init__(self, a, ha):\n",
        "        self.a = a\n",
        "        self.ha = ha\n",
        "\n",
        "    def get_area(self):\n",
        "        return 1/2 * self.a * self.ha\n",
        "\n",
        "\n",
        "class Circle(Figure):\n",
        "    def __init__(self, r):\n",
        "        self.r = r\n",
        "\n",
        "    def get_area(self):\n",
        "        return math.pi * (self.r**2)"
      ],
      "metadata": {
        "id": "H3GVNr69Muf3"
      },
      "execution_count": null,
      "outputs": []
    },
    {
      "cell_type": "code",
      "source": [
        "triangle = Triangle(2, 4)\n",
        "circle = Circle(3)\n",
        "\n",
        "print(str(triangle + circle))"
      ],
      "metadata": {
        "colab": {
          "base_uri": "https://localhost:8080/"
        },
        "id": "GZwpcToGW1KG",
        "outputId": "d2f3783d-7188-48c3-9256-0f7dbc0e39e7"
      },
      "execution_count": null,
      "outputs": [
        {
          "output_type": "stream",
          "name": "stdout",
          "text": [
            "32.27433388230814\n"
          ]
        }
      ]
    },
    {
      "cell_type": "markdown",
      "source": [
        "7. (3б). Продемонструйте різницю між isinstance та issubclass."
      ],
      "metadata": {
        "id": "HCvR206YMvLK"
      }
    },
    {
      "cell_type": "code",
      "source": [
        "print(isinstance(triangle, Figure)) # перевірка чи є triangle типом Figure\n",
        "print(isinstance(triangle, Triangle))\n",
        "\n",
        "print(issubclass(Triangle, Figure)) # перевірка чи є клас Triangle підкласом класу Figure\n",
        "print(issubclass(Figure, Triangle))"
      ],
      "metadata": {
        "id": "L_V1bBvDM0GN",
        "colab": {
          "base_uri": "https://localhost:8080/"
        },
        "outputId": "af02ccb5-a3a4-45ca-a65d-398fea4a9699"
      },
      "execution_count": null,
      "outputs": [
        {
          "output_type": "stream",
          "name": "stdout",
          "text": [
            "True\n",
            "True\n",
            "True\n",
            "False\n"
          ]
        }
      ]
    },
    {
      "cell_type": "markdown",
      "source": [
        "8. (13б). Створіть клас BankAccount з приватними атрибутами balance та account_number. Реалізуйте методи поповнення та зняття коштів, забезпечивши належну інкапсуляцію. Підказка: використовуйте декоратори property та setter."
      ],
      "metadata": {
        "id": "jjsaBZ-iM0Qq"
      }
    },
    {
      "cell_type": "code",
      "source": [
        "class BankAccount:\n",
        "    def __init__(self, balance, account_number):\n",
        "        self.__balance = balance\n",
        "        self.__account_number = account_number\n",
        "\n",
        "    @property\n",
        "    def balance(self):\n",
        "        return self.__balance\n",
        "\n",
        "    @balance.setter\n",
        "    def balance(self, balance):\n",
        "        if self.isValidAmount(balance):\n",
        "            self.__balance = balance\n",
        "            return True\n",
        "\n",
        "        return False\n",
        "\n",
        "    @property\n",
        "    def account_number(self):\n",
        "        return self.__account_number\n",
        "\n",
        "    @account_number.setter\n",
        "    def account_number(self, account_number):\n",
        "        self.__account_number = account_number\n",
        "        return True\n",
        "\n",
        "\n",
        "    def replenishment(self, amount):\n",
        "        if self.isValidAmount(amount):\n",
        "            self.balance += amount\n",
        "            return True\n",
        "\n",
        "        return False\n",
        "\n",
        "    def withdrawal(self, amount):\n",
        "        if self.isValidAmount(amount) and amount <= self.balance:\n",
        "            self.balance -= amount\n",
        "            return True\n",
        "\n",
        "        return False\n",
        "\n",
        "    @staticmethod\n",
        "    def isValidAmount(amount):\n",
        "        if amount < 0:\n",
        "            return False\n",
        "\n",
        "        return True\n",
        "\n",
        "    def __str__(self):\n",
        "        return f'Balance: {self.balance}\\nAccount number: {self.account_number}'"
      ],
      "metadata": {
        "id": "xCvZ7lh8M7YA"
      },
      "execution_count": null,
      "outputs": []
    },
    {
      "cell_type": "code",
      "source": [
        "# Test\n",
        "bank_account = BankAccount(10, 10476328)\n",
        "print(bank_account)\n",
        "print()\n",
        "\n",
        "# перевірка статичного метода BankAccount.isValidAmount(amount)\n",
        "print('# перевірка статичного метода BankAccount.isValidAmount(amount):')\n",
        "print(BankAccount.isValidAmount(200))\n",
        "print(BankAccount.isValidAmount(0))\n",
        "print(BankAccount.isValidAmount(-200))\n",
        "print()\n",
        "\n",
        "# поповнення\n",
        "print('# поповнення:')\n",
        "bank_account.replenishment(300)\n",
        "print(bank_account)\n",
        "print()\n",
        "\n",
        "# зняття\n",
        "print('# зняття:')\n",
        "bank_account.withdrawal(30)\n",
        "print(bank_account)\n",
        "print()\n",
        "\n",
        "# перевірка геттерів та сеттерів\n",
        "print('# перевірка геттерів та сеттерів:')\n",
        "bank_account.balance = 300\n",
        "bank_account.account_number = 400\n",
        "print(bank_account)\n",
        "print()\n",
        "\n",
        "print(bank_account.balance)\n",
        "print(bank_account.account_number)\n",
        "print()\n",
        "\n",
        "# перевірка чи не затирається перший екземпляр класу другим\n",
        "print('# перевірка чи не затирається перший екземпляр класу другим:')\n",
        "bank_account2 = BankAccount(10, 10476328)\n",
        "print(bank_account2)\n",
        "print()\n",
        "print(bank_account)"
      ],
      "metadata": {
        "colab": {
          "base_uri": "https://localhost:8080/"
        },
        "id": "_IsUFytGgYl9",
        "outputId": "886489a9-7217-4dc6-98e9-5c1ba95499aa"
      },
      "execution_count": null,
      "outputs": [
        {
          "output_type": "stream",
          "name": "stdout",
          "text": [
            "Balance: 10\n",
            "Account number: 10476328\n",
            "\n",
            "# перевірка статичного метода BankAccount.isValidAmount(amount):\n",
            "True\n",
            "True\n",
            "False\n",
            "\n",
            "# поповнення:\n",
            "Balance: 310\n",
            "Account number: 10476328\n",
            "\n",
            "# зняття:\n",
            "Balance: 280\n",
            "Account number: 10476328\n",
            "\n",
            "# перевірка геттерів та сеттерів:\n",
            "Balance: 300\n",
            "Account number: 400\n",
            "\n",
            "300\n",
            "400\n",
            "\n",
            "# перевірка чи не затирається перший екземпляр класу другим:\n",
            "Balance: 10\n",
            "Account number: 10476328\n",
            "\n",
            "Balance: 300\n",
            "Account number: 400\n"
          ]
        }
      ]
    },
    {
      "cell_type": "markdown",
      "source": [
        "9. (11б). Створіть клас Library, який містить список об'єктів типу Book. Реалізуйте методи для додавання книги, видалення книги та відображення списку книг."
      ],
      "metadata": {
        "id": "tIzL2SJTM8ft"
      }
    },
    {
      "cell_type": "code",
      "source": [
        "from collections.abc import Iterable\n",
        "\n",
        "\n",
        "class Book:\n",
        "    def __init__(self, title, author, price):\n",
        "        self.__title = title\n",
        "        self.__author = author\n",
        "        self.__price = price\n",
        "\n",
        "    @property\n",
        "    def title(self):\n",
        "        return self.__title\n",
        "\n",
        "    @property\n",
        "    def author(self):\n",
        "        return self.__author\n",
        "\n",
        "    @property\n",
        "    def price(self):\n",
        "        return self.__price\n",
        "\n",
        "    def __eq__(self, other):\n",
        "        if isinstance(other, Book):\n",
        "            return (self.title == other.title\n",
        "                    and self.author == other.author\n",
        "                    and self.price == other.price\n",
        "                    )\n",
        "        return False\n",
        "\n",
        "    def __str__(self):\n",
        "        return (f'title: {self.title}\\n'\n",
        "                f'author: {self.author}\\n'\n",
        "                f'price: {self.price}'\n",
        "                )\n",
        "\n",
        "\n",
        "class Library:\n",
        "    def __init__(self, books=None):\n",
        "        if (books\n",
        "            and isinstance(books, Iterable)\n",
        "            and len(books)\n",
        "            ):\n",
        "            self.__books = [book for book in books if isinstance(book, Book)]\n",
        "\n",
        "        else:\n",
        "            self.__books = []\n",
        "\n",
        "    def append(self, book):\n",
        "        if isinstance(book, Book):\n",
        "            self.__books.append(book)\n",
        "            return True\n",
        "        return False\n",
        "\n",
        "    def getBook(self, index):\n",
        "        if index >= 0 and index < self.size():\n",
        "            return self.__books[index]\n",
        "        return None\n",
        "\n",
        "    def pop(self, index):\n",
        "        if index >= 0 and index < self.size():\n",
        "            return self.__books.pop(index)\n",
        "        return None\n",
        "\n",
        "    def remove(self, book):\n",
        "        if isinstance(book, Book):\n",
        "            self.__books.remove(book)\n",
        "            return True\n",
        "        return False\n",
        "\n",
        "    def size(self):\n",
        "        return len(self.__books)\n",
        "\n",
        "    def __iter__(self):\n",
        "        return iter(self.__books)\n",
        "\n",
        "    def __str__(self):\n",
        "        result = ''\n",
        "        iter = 1\n",
        "\n",
        "        for book in self:\n",
        "            result += f'Book {iter}:\\n{str(book)}\\n\\n'\n",
        "            iter += 1\n",
        "\n",
        "        return result\n"
      ],
      "metadata": {
        "id": "HWxfJKLtNAUZ"
      },
      "execution_count": null,
      "outputs": []
    },
    {
      "cell_type": "code",
      "source": [
        "# Test\n",
        "\n",
        "# Library став підкласом Iterable, бо реалізований метод __iter__(self)\n",
        "print('# Library став підкласом Iterable, бо реалізований метод __iter__(self):')\n",
        "print(f'issubclass(Library, Iterable) -> {issubclass(Library, Iterable)}')\n",
        "print()\n",
        "\n",
        "books = [Book('Тобі Лолнесс. На волосину від загибелі', 'Тімоте де Фомбель', 170),\n",
        "         Book('Тобі Лолнесс. Очі Еліші', 'Тімоте де Фомбель', 225)]\n",
        "\n",
        "book = Book('Все починається в 13', 'Валентин Бердт', 151)\n",
        "\n",
        "library = Library(books)\n",
        "library.append(book)\n",
        "\n",
        "# перевірка методу __str__(self), у нього в середині викликається циклом for метод __iter__(self)\n",
        "print('# перевірка методу __str__(self), у нього в середині викликається циклом for метод __iter__(self):')\n",
        "print(library)\n",
        "print()\n",
        "\n",
        "# перевірка видалення 1\n",
        "print('# перевірка видалення 1:')\n",
        "library.remove(Book('Тобі Лолнесс. Очі Еліші', 'Тімоте де Фомбель', 225))\n",
        "print(library)\n",
        "print()\n",
        "\n",
        "# перевірка видалення 2\n",
        "print('# перевірка видалення 2:')\n",
        "p_book = library.pop(0)\n",
        "print(library)\n",
        "print(f'p_book ->\\n{p_book}')"
      ],
      "metadata": {
        "colab": {
          "base_uri": "https://localhost:8080/"
        },
        "id": "wHSN-HWnlANa",
        "outputId": "50398b08-f2d6-4d6e-a242-8622d5e5d8ff"
      },
      "execution_count": null,
      "outputs": [
        {
          "output_type": "stream",
          "name": "stdout",
          "text": [
            "# Library став підкласом Iterable, бо реалізований метод __iter__(self):\n",
            "issubclass(Library, Iterable) -> True\n",
            "\n",
            "# перевірка методу __str__(self), у нього в середині викликається циклом for метод __iter__(self):\n",
            "Book 1:\n",
            "title: Тобі Лолнесс. На волосину від загибелі\n",
            "author: Тімоте де Фомбель\n",
            "price: 170\n",
            "\n",
            "Book 2:\n",
            "title: Тобі Лолнесс. Очі Еліші\n",
            "author: Тімоте де Фомбель\n",
            "price: 225\n",
            "\n",
            "Book 3:\n",
            "title: Все починається в 13\n",
            "author: Валентин Бердт\n",
            "price: 151\n",
            "\n",
            "\n",
            "\n",
            "# перевірка видалення 1:\n",
            "Book 1:\n",
            "title: Тобі Лолнесс. На волосину від загибелі\n",
            "author: Тімоте де Фомбель\n",
            "price: 170\n",
            "\n",
            "Book 2:\n",
            "title: Все починається в 13\n",
            "author: Валентин Бердт\n",
            "price: 151\n",
            "\n",
            "\n",
            "\n",
            "# перевірка видалення 2:\n",
            "Book 1:\n",
            "title: Все починається в 13\n",
            "author: Валентин Бердт\n",
            "price: 151\n",
            "\n",
            "\n",
            "p_book ->\n",
            "title: Тобі Лолнесс. На волосину від загибелі\n",
            "author: Тімоте де Фомбель\n",
            "price: 170\n"
          ]
        }
      ]
    },
    {
      "cell_type": "markdown",
      "source": [
        "10. (13б). Створіть клас Person з атрибутами name та age. Створіть ще один клас Employee з такими атрибутами, як department та salary. Створіть клас Manager, який успадковує обидва класи Person та Employee. Продемонструйте використання множинної спадковості, створивши обʼєкт класу Manager та отримавши mro для цього класу."
      ],
      "metadata": {
        "id": "lmV8pAwwNIqu"
      }
    },
    {
      "cell_type": "code",
      "source": [
        "class Person:\n",
        "    def __init__(self, name, age):\n",
        "        self.name = name\n",
        "        self.age = age\n",
        "\n",
        "    def __str__(self):\n",
        "        return f'name: {self.name}\\nage: {self.age}'\n",
        "\n",
        "\n",
        "class Employee:\n",
        "    def __init__(self, department, salary):\n",
        "        self.department = department\n",
        "        self.salary = salary\n",
        "\n",
        "    def __str__(self):\n",
        "        return f'department: {self.department}\\nsalary: {self.salary}'\n",
        "\n",
        "\n",
        "class Manager(Person, Employee):\n",
        "    def __init__(self, name, age, department, salary):\n",
        "        Person.__init__(self, name, age)\n",
        "        Employee.__init__(self, department, salary)\n",
        "\n",
        "    def __str__(self):\n",
        "        return f'{Person.__str__(self)}\\n{Employee.__str__(self)}'"
      ],
      "metadata": {
        "id": "R49grKlWNPeN"
      },
      "execution_count": null,
      "outputs": []
    },
    {
      "cell_type": "code",
      "source": [
        "manager = Manager(\"Oleg Shapko\", 27, \"IT\", 8000)\n",
        "print(manager)\n",
        "print()\n",
        "print(Manager.mro())"
      ],
      "metadata": {
        "colab": {
          "base_uri": "https://localhost:8080/"
        },
        "id": "y0V3MfmpsgG-",
        "outputId": "f4116caf-f446-4840-a35e-93c653bf8f20"
      },
      "execution_count": null,
      "outputs": [
        {
          "output_type": "stream",
          "name": "stdout",
          "text": [
            "name: Oleg Shapko\n",
            "age: 27\n",
            "department: IT\n",
            "salary: 8000\n",
            "\n",
            "[<class '__main__.Manager'>, <class '__main__.Person'>, <class '__main__.Employee'>, <class 'object'>]\n"
          ]
        }
      ]
    },
    {
      "cell_type": "markdown",
      "source": [
        "# II. Iterator"
      ],
      "metadata": {
        "id": "dIJyUiNBFG8G"
      }
    },
    {
      "cell_type": "markdown",
      "source": [
        "11. (4б). Визначте рядок(str) з 4ма різними за значенням символами. Створіть ітератор на основі цього рядка. Викличте 5 разів функцію next на ітераторі, 4ри перших з них огорніть у ф-цію print()."
      ],
      "metadata": {
        "id": "13vsm0NyKIzL"
      }
    },
    {
      "cell_type": "code",
      "source": [
        "some_str = '2*h@'\n",
        "iter_ss = iter(some_str)\n",
        "\n",
        "for i in range(4):\n",
        "    print(next(iter_ss))"
      ],
      "metadata": {
        "id": "81ntabAkKuz-",
        "colab": {
          "base_uri": "https://localhost:8080/"
        },
        "outputId": "c43978dc-ebd5-43dc-b9b4-ee2a2419a2ab"
      },
      "execution_count": null,
      "outputs": [
        {
          "output_type": "stream",
          "name": "stdout",
          "text": [
            "2\n",
            "*\n",
            "h\n",
            "@\n"
          ]
        }
      ]
    },
    {
      "cell_type": "markdown",
      "source": [
        "А що якщо викликати цю ж функцію на рядку?"
      ],
      "metadata": {
        "id": "aekWHGXOLRsO"
      }
    },
    {
      "cell_type": "code",
      "source": [
        "try:\n",
        "    print(next(iter_ss))\n",
        "except StopIteration:\n",
        "    print('StopIteration')"
      ],
      "metadata": {
        "id": "mxATGsErLV1i",
        "colab": {
          "base_uri": "https://localhost:8080/"
        },
        "outputId": "66e6a299-3d72-41f7-92e9-a8c05ffdda24"
      },
      "execution_count": null,
      "outputs": [
        {
          "output_type": "stream",
          "name": "stdout",
          "text": [
            "StopIteration\n"
          ]
        }
      ]
    },
    {
      "cell_type": "markdown",
      "source": [
        " 12. (5б). Опишіть своїми словами в одному реченні, як ви розумієте різницю між ітерабельними обʼєктами та ітераторами (можна на прикладі)."
      ],
      "metadata": {
        "id": "XwtMEopwJ4pH"
      }
    },
    {
      "cell_type": "markdown",
      "source": [
        "Ітерабельні об'єкти - це об'єкти, які можна ітерувати, а ітератори повертають по одному об'єкту ітерабельного об'єкта."
      ],
      "metadata": {
        "id": "-sHrODc3KFn8"
      }
    },
    {
      "cell_type": "markdown",
      "source": [
        "13. (11б). Створіть клас, що має визначений Iterator Protocol та при кожному виклику next повертає літери англійської абетки, поки вони не вичерпаються."
      ],
      "metadata": {
        "id": "E9qJWmNbK8Gl"
      }
    },
    {
      "cell_type": "code",
      "source": [
        "class EnglishAlphabet:\n",
        "    def __init__(self):\n",
        "        self.__alphabet = 'ABCDEFGHIJKLMNOPQRSTUVWXYZ'\n",
        "\n",
        "    def __iter__(self):\n",
        "        self.__current = 0\n",
        "        return self\n",
        "\n",
        "    def __next__(self):\n",
        "        if self.__current < len(self.__alphabet):\n",
        "            result = self.__alphabet[self.__current]\n",
        "            self.__current += 1\n",
        "            return result\n",
        "        raise StopIteration"
      ],
      "metadata": {
        "id": "cqx-g_RsLo6I"
      },
      "execution_count": 29,
      "outputs": []
    },
    {
      "cell_type": "code",
      "source": [
        "alphabet = EnglishAlphabet()\n",
        "\n",
        "for a in alphabet:\n",
        "    print(a)"
      ],
      "metadata": {
        "colab": {
          "base_uri": "https://localhost:8080/"
        },
        "id": "GzErA4QePjqV",
        "outputId": "11853d9e-8019-4553-e416-338789f374db"
      },
      "execution_count": 30,
      "outputs": [
        {
          "output_type": "stream",
          "name": "stdout",
          "text": [
            "A\n",
            "B\n",
            "C\n",
            "D\n",
            "E\n",
            "F\n",
            "G\n",
            "H\n",
            "I\n",
            "J\n",
            "K\n",
            "L\n",
            "M\n",
            "N\n",
            "O\n",
            "P\n",
            "Q\n",
            "R\n",
            "S\n",
            "T\n",
            "U\n",
            "V\n",
            "W\n",
            "X\n",
            "Y\n",
            "Z\n"
          ]
        }
      ]
    },
    {
      "cell_type": "markdown",
      "source": [
        "# Вітаю! Ви велика(ий) молодець, що впоралась(вся). Похваліть себе та побалуйте чимось приємним. Я Вами пишаюся."
      ],
      "metadata": {
        "id": "Z3E3S_s1Fv7-"
      }
    }
  ]
}